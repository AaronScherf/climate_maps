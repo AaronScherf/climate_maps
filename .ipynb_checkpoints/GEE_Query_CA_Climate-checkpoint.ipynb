{
 "cells": [
  {
   "cell_type": "code",
   "execution_count": null,
   "metadata": {
    "colab": {
     "base_uri": "https://localhost:8080/",
     "height": 748
    },
    "colab_type": "code",
    "id": "4Aqr59Dg3_QO",
    "outputId": "8dd30bb3-9291-4085-949b-9118a50d38c6"
   },
   "outputs": [
    {
     "name": "stdout",
     "output_type": "stream",
     "text": [
      "Requirement already satisfied: earthengine_api in /usr/local/lib/python3.6/dist-packages (0.1.225)\n",
      "Requirement already satisfied: httplib2shim in /usr/local/lib/python3.6/dist-packages (from earthengine_api) (0.0.3)\n",
      "Requirement already satisfied: future in /usr/local/lib/python3.6/dist-packages (from earthengine_api) (0.16.0)\n",
      "Requirement already satisfied: google-auth>=1.4.1 in /usr/local/lib/python3.6/dist-packages (from earthengine_api) (1.17.2)\n",
      "Requirement already satisfied: httplib2<1dev,>=0.9.2 in /usr/local/lib/python3.6/dist-packages (from earthengine_api) (0.17.4)\n",
      "Requirement already satisfied: google-auth-httplib2>=0.0.3 in /usr/local/lib/python3.6/dist-packages (from earthengine_api) (0.0.3)\n",
      "Requirement already satisfied: six in /usr/local/lib/python3.6/dist-packages (from earthengine_api) (1.12.0)\n",
      "Requirement already satisfied: google-api-python-client in /usr/local/lib/python3.6/dist-packages (from earthengine_api) (1.7.12)\n",
      "Requirement already satisfied: google-cloud-storage in /usr/local/lib/python3.6/dist-packages (from earthengine_api) (1.18.1)\n",
      "Requirement already satisfied: urllib3 in /usr/local/lib/python3.6/dist-packages (from httplib2shim->earthengine_api) (1.24.3)\n",
      "Requirement already satisfied: certifi in /usr/local/lib/python3.6/dist-packages (from httplib2shim->earthengine_api) (2020.4.5.2)\n",
      "Requirement already satisfied: pyasn1-modules>=0.2.1 in /usr/local/lib/python3.6/dist-packages (from google-auth>=1.4.1->earthengine_api) (0.2.8)\n",
      "Requirement already satisfied: cachetools<5.0,>=2.0.0 in /usr/local/lib/python3.6/dist-packages (from google-auth>=1.4.1->earthengine_api) (4.1.0)\n",
      "Requirement already satisfied: rsa<5,>=3.1.4; python_version >= \"3\" in /usr/local/lib/python3.6/dist-packages (from google-auth>=1.4.1->earthengine_api) (4.6)\n",
      "Requirement already satisfied: setuptools>=40.3.0 in /usr/local/lib/python3.6/dist-packages (from google-auth>=1.4.1->earthengine_api) (47.3.1)\n",
      "Requirement already satisfied: uritemplate<4dev,>=3.0.0 in /usr/local/lib/python3.6/dist-packages (from google-api-python-client->earthengine_api) (3.0.1)\n",
      "Requirement already satisfied: google-cloud-core<2.0dev,>=1.0.0 in /usr/local/lib/python3.6/dist-packages (from google-cloud-storage->earthengine_api) (1.0.3)\n",
      "Requirement already satisfied: google-resumable-media<0.5.0dev,>=0.3.1 in /usr/local/lib/python3.6/dist-packages (from google-cloud-storage->earthengine_api) (0.4.1)\n",
      "Requirement already satisfied: pyasn1<0.5.0,>=0.4.6 in /usr/local/lib/python3.6/dist-packages (from pyasn1-modules>=0.2.1->google-auth>=1.4.1->earthengine_api) (0.4.8)\n",
      "Requirement already satisfied: google-api-core<2.0.0dev,>=1.14.0 in /usr/local/lib/python3.6/dist-packages (from google-cloud-core<2.0dev,>=1.0.0->google-cloud-storage->earthengine_api) (1.16.0)\n",
      "Requirement already satisfied: protobuf>=3.4.0 in /usr/local/lib/python3.6/dist-packages (from google-api-core<2.0.0dev,>=1.14.0->google-cloud-core<2.0dev,>=1.0.0->google-cloud-storage->earthengine_api) (3.10.0)\n",
      "Requirement already satisfied: googleapis-common-protos<2.0dev,>=1.6.0 in /usr/local/lib/python3.6/dist-packages (from google-api-core<2.0.0dev,>=1.14.0->google-cloud-core<2.0dev,>=1.0.0->google-cloud-storage->earthengine_api) (1.52.0)\n",
      "Requirement already satisfied: pytz in /usr/local/lib/python3.6/dist-packages (from google-api-core<2.0.0dev,>=1.14.0->google-cloud-core<2.0dev,>=1.0.0->google-cloud-storage->earthengine_api) (2018.9)\n",
      "Requirement already satisfied: requests<3.0.0dev,>=2.18.0 in /usr/local/lib/python3.6/dist-packages (from google-api-core<2.0.0dev,>=1.14.0->google-cloud-core<2.0dev,>=1.0.0->google-cloud-storage->earthengine_api) (2.23.0)\n",
      "Requirement already satisfied: idna<3,>=2.5 in /usr/local/lib/python3.6/dist-packages (from requests<3.0.0dev,>=2.18.0->google-api-core<2.0.0dev,>=1.14.0->google-cloud-core<2.0dev,>=1.0.0->google-cloud-storage->earthengine_api) (2.9)\n",
      "Requirement already satisfied: chardet<4,>=3.0.2 in /usr/local/lib/python3.6/dist-packages (from requests<3.0.0dev,>=2.18.0->google-api-core<2.0.0dev,>=1.14.0->google-cloud-core<2.0dev,>=1.0.0->google-cloud-storage->earthengine_api) (3.0.4)\n",
      "Requirement already satisfied: geopandas in /usr/local/lib/python3.6/dist-packages (0.7.0)\n",
      "Requirement already satisfied: fiona in /usr/local/lib/python3.6/dist-packages (from geopandas) (1.8.13.post1)\n",
      "Requirement already satisfied: pandas>=0.23.0 in /usr/local/lib/python3.6/dist-packages (from geopandas) (1.0.4)\n",
      "Requirement already satisfied: shapely in /usr/local/lib/python3.6/dist-packages (from geopandas) (1.7.0)\n",
      "Requirement already satisfied: pyproj>=2.2.0 in /usr/local/lib/python3.6/dist-packages (from geopandas) (2.6.1.post1)\n",
      "Requirement already satisfied: attrs>=17 in /usr/local/lib/python3.6/dist-packages (from fiona->geopandas) (19.3.0)\n",
      "Requirement already satisfied: cligj>=0.5 in /usr/local/lib/python3.6/dist-packages (from fiona->geopandas) (0.5.0)\n",
      "Requirement already satisfied: six>=1.7 in /usr/local/lib/python3.6/dist-packages (from fiona->geopandas) (1.12.0)\n",
      "Requirement already satisfied: munch in /usr/local/lib/python3.6/dist-packages (from fiona->geopandas) (2.5.0)\n",
      "Requirement already satisfied: click<8,>=4.0 in /usr/local/lib/python3.6/dist-packages (from fiona->geopandas) (7.1.2)\n",
      "Requirement already satisfied: click-plugins>=1.0 in /usr/local/lib/python3.6/dist-packages (from fiona->geopandas) (1.1.1)\n",
      "Requirement already satisfied: pytz>=2017.2 in /usr/local/lib/python3.6/dist-packages (from pandas>=0.23.0->geopandas) (2018.9)\n",
      "Requirement already satisfied: numpy>=1.13.3 in /usr/local/lib/python3.6/dist-packages (from pandas>=0.23.0->geopandas) (1.18.5)\n",
      "Requirement already satisfied: python-dateutil>=2.6.1 in /usr/local/lib/python3.6/dist-packages (from pandas>=0.23.0->geopandas) (2.8.1)\n"
     ]
    }
   ],
   "source": [
    "!pip install earthengine_api\n",
    "!pip install geopandas"
   ]
  },
  {
   "cell_type": "code",
   "execution_count": 1,
   "metadata": {
    "colab": {},
    "colab_type": "code",
    "id": "ewb6klz5hIQJ"
   },
   "outputs": [],
   "source": [
    "import os\n",
    "import random\n",
    "import numpy as np\n",
    "import matplotlib.pyplot as plt\n",
    "import math\n",
    "import time\n",
    "import pandas as pd\n",
    "import geopandas as gpd\n",
    "from datetime import datetime, timedelta\n",
    "import ee"
   ]
  },
  {
   "cell_type": "code",
   "execution_count": 2,
   "metadata": {
    "colab": {
     "base_uri": "https://localhost:8080/",
     "height": 179
    },
    "colab_type": "code",
    "id": "2pUvkuh_hMET",
    "outputId": "e156812e-6a60-4e41-9d3f-cf7865d08ed5"
   },
   "outputs": [
    {
     "data": {
      "text/html": [
       "<p>To authorize access needed by Earth Engine, open the following\n",
       "        URL in a web browser and follow the instructions:</p>\n",
       "        <p><a href=https://accounts.google.com/o/oauth2/auth?client_id=517222506229-vsmmajv00ul0bs7p89v5m89qs8eb9359.apps.googleusercontent.com&scope=https%3A%2F%2Fwww.googleapis.com%2Fauth%2Fearthengine+https%3A%2F%2Fwww.googleapis.com%2Fauth%2Fdevstorage.full_control&redirect_uri=urn%3Aietf%3Awg%3Aoauth%3A2.0%3Aoob&response_type=code>https://accounts.google.com/o/oauth2/auth?client_id=517222506229-vsmmajv00ul0bs7p89v5m89qs8eb9359.apps.googleusercontent.com&scope=https%3A%2F%2Fwww.googleapis.com%2Fauth%2Fearthengine+https%3A%2F%2Fwww.googleapis.com%2Fauth%2Fdevstorage.full_control&redirect_uri=urn%3Aietf%3Awg%3Aoauth%3A2.0%3Aoob&response_type=code</a></p>\n",
       "        <p>The authorization workflow will generate a code, which you\n",
       "        should paste in the box below</p>\n",
       "        "
      ],
      "text/plain": [
       "<IPython.core.display.HTML object>"
      ]
     },
     "metadata": {},
     "output_type": "display_data"
    },
    {
     "name": "stdout",
     "output_type": "stream",
     "text": [
      "Enter verification code: 4/1AGVMkMBVXOcqAqwLRPtgqN35-h3W765pjTrjZipfhoJAat0WCfL-xA\n",
      "\n",
      "Successfully saved authorization token.\n"
     ]
    }
   ],
   "source": [
    "# Trigger the authentication flow.\n",
    "ee.Authenticate()\n",
    "\n",
    "# Initialize the library.\n",
    "ee.Initialize()"
   ]
  },
  {
   "cell_type": "code",
   "execution_count": 4,
   "metadata": {
    "colab": {},
    "colab_type": "code",
    "id": "Z86ssvsGhQ_v"
   },
   "outputs": [],
   "source": [
    "# Set Data Path\n",
    "## Change the destination to your Drive directory containing the folder 'raw_data.zip'\n",
    "data_path = 'C:/Users/theaa/Desktop/geemap/farmview/climate_maps'\n",
    "os.chdir(data_path)\n"
   ]
  },
  {
   "cell_type": "code",
   "execution_count": 5,
   "metadata": {
    "colab": {
     "base_uri": "https://localhost:8080/",
     "height": 35
    },
    "colab_type": "code",
    "id": "-syQR7IknMGa",
    "outputId": "ea4f5781-0c82-42cc-bc81-afb114a4f4c7"
   },
   "outputs": [
    {
     "data": {
      "text/plain": [
       "'C:\\\\Users\\\\theaa\\\\Desktop\\\\geemap\\\\farmview\\\\climate_maps'"
      ]
     },
     "execution_count": 5,
     "metadata": {},
     "output_type": "execute_result"
    }
   ],
   "source": [
    "\n",
    "# Print the current working directory\n",
    "os.getcwd()"
   ]
  },
  {
   "cell_type": "markdown",
   "metadata": {
    "colab_type": "text",
    "id": "IHoLvUKuhScl"
   },
   "source": [
    "Import Shapefile for California"
   ]
  },
  {
   "cell_type": "code",
   "execution_count": 6,
   "metadata": {
    "colab": {},
    "colab_type": "code",
    "id": "YfoCkdMFn5Lg"
   },
   "outputs": [],
   "source": [
    "# https://svaderia.github.io/articles/downloading-and-unzipping-a-zipfile/\n",
    "# https://data.ca.gov/dataset/ca-geographic-boundaries\n",
    "\n",
    "\n",
    "from urllib.request import urlopen\n",
    "from zipfile import ZipFile\n",
    "os.mkdir('ca-state-boundary')\n",
    "zipurl = 'https://data.ca.gov/dataset/e212e397-1277-4df3-8c22-40721b095f33/resource/3db1e426-fb51-44f5-82d5-a54d7c6e188b/download/ca-state-boundary.zip'\n",
    "    # Download the file from the URL\n",
    "zipresp = urlopen(zipurl)\n",
    "    # Create a new file on the hard drive\n",
    "tempzip = open(\"ca-state-boundary/ca-state-boundary.zip\", \"wb\")\n",
    "    # Write the contents of the downloaded file into the new file\n",
    "tempzip.write(zipresp.read())\n",
    "    # Close the newly-created file\n",
    "tempzip.close()\n",
    "    # Re-open the newly-created file with ZipFile()\n",
    "zf = ZipFile(\"ca-state-boundary/ca-state-boundary.zip\")\n",
    "    # Extract its contents into <extraction_path>\n",
    "    # note that extractall will automatically create the path\n",
    "zf.extractall(path = 'ca-state-boundary')\n",
    "    # close the ZipFile instance\n",
    "zf.close()"
   ]
  },
  {
   "cell_type": "markdown",
   "metadata": {
    "colab_type": "text",
    "id": "y6VK9K8bhep3"
   },
   "source": [
    "## Upload Shapefile as Asset in GEE"
   ]
  },
  {
   "cell_type": "code",
   "execution_count": null,
   "metadata": {
    "colab": {
     "base_uri": "https://localhost:8080/",
     "height": 1000
    },
    "colab_type": "code",
    "id": "ofiPQSbvs1Pj",
    "outputId": "a3b8aeb2-480a-4ddf-cd1a-78e1b96f09e2"
   },
   "outputs": [
    {
     "name": "stdout",
     "output_type": "stream",
     "text": [
      "Requirement already satisfied: geemap in /usr/local/lib/python3.6/dist-packages (0.7.2)\n",
      "Requirement already satisfied: click in /usr/local/lib/python3.6/dist-packages (from geemap) (7.1.2)\n",
      "Requirement already satisfied: geocoder in /usr/local/lib/python3.6/dist-packages (from geemap) (1.38.1)\n",
      "Requirement already satisfied: ipyleaflet>=0.12.6 in /usr/local/lib/python3.6/dist-packages (from geemap) (0.13.0)\n",
      "Requirement already satisfied: dulwich in /usr/local/lib/python3.6/dist-packages (from geemap) (0.20.3)\n",
      "Requirement already satisfied: geeadd>=0.4.8 in /usr/local/lib/python3.6/dist-packages (from geemap) (0.5.0)\n",
      "Requirement already satisfied: earthengine-api in /usr/local/lib/python3.6/dist-packages (from geemap) (0.1.225)\n",
      "Requirement already satisfied: bqplot in /usr/local/lib/python3.6/dist-packages (from geemap) (0.12.12)\n",
      "Requirement already satisfied: ipyfilechooser in /usr/local/lib/python3.6/dist-packages (from geemap) (0.3.4)\n",
      "Requirement already satisfied: matplotlib in /usr/local/lib/python3.6/dist-packages (from geemap) (3.2.1)\n",
      "Requirement already satisfied: mss in /usr/local/lib/python3.6/dist-packages (from geemap) (5.1.0)\n",
      "Requirement already satisfied: ipynb-py-convert in /usr/local/lib/python3.6/dist-packages (from geemap) (0.4.5)\n",
      "Requirement already satisfied: ipytree in /usr/local/lib/python3.6/dist-packages (from geemap) (0.1.8)\n",
      "Requirement already satisfied: pillow in /usr/local/lib/python3.6/dist-packages (from geemap) (7.0.0)\n",
      "Requirement already satisfied: colour in /usr/local/lib/python3.6/dist-packages (from geemap) (0.1.5)\n",
      "Requirement already satisfied: pyshp in /usr/local/lib/python3.6/dist-packages (from geemap) (2.1.0)\n",
      "Requirement already satisfied: folium>=0.11.0 in /usr/local/lib/python3.6/dist-packages (from geemap) (0.11.0)\n",
      "Requirement already satisfied: requests in /usr/local/lib/python3.6/dist-packages (from geocoder->geemap) (2.23.0)\n",
      "Requirement already satisfied: six in /usr/local/lib/python3.6/dist-packages (from geocoder->geemap) (1.12.0)\n",
      "Requirement already satisfied: ratelim in /usr/local/lib/python3.6/dist-packages (from geocoder->geemap) (0.1.6)\n",
      "Requirement already satisfied: future in /usr/local/lib/python3.6/dist-packages (from geocoder->geemap) (0.16.0)\n",
      "Requirement already satisfied: ipywidgets<8,>=7.5.0 in /usr/local/lib/python3.6/dist-packages (from ipyleaflet>=0.12.6->geemap) (7.5.1)\n",
      "Collecting branca<0.4,>=0.3.1\n",
      "  Downloading https://files.pythonhosted.org/packages/63/36/1c93318e9653f4e414a2e0c3b98fc898b4970e939afeedeee6075dd3b703/branca-0.3.1-py3-none-any.whl\n",
      "Requirement already satisfied: traittypes<3,>=0.2.1 in /usr/local/lib/python3.6/dist-packages (from ipyleaflet>=0.12.6->geemap) (0.2.1)\n",
      "Requirement already satisfied: urllib3>=1.24.1 in /usr/local/lib/python3.6/dist-packages (from dulwich->geemap) (1.24.3)\n",
      "Requirement already satisfied: certifi in /usr/local/lib/python3.6/dist-packages (from dulwich->geemap) (2020.4.5.2)\n",
      "Requirement already satisfied: logzero>=1.5.0 in /usr/local/lib/python3.6/dist-packages (from geeadd>=0.4.8->geemap) (1.5.0)\n",
      "Requirement already satisfied: beautifulsoup4>=4.9.0 in /usr/local/lib/python3.6/dist-packages (from geeadd>=0.4.8->geemap) (4.9.1)\n",
      "Requirement already satisfied: httplib2shim in /usr/local/lib/python3.6/dist-packages (from earthengine-api->geemap) (0.0.3)\n",
      "Requirement already satisfied: google-api-python-client in /usr/local/lib/python3.6/dist-packages (from earthengine-api->geemap) (1.7.12)\n",
      "Requirement already satisfied: httplib2<1dev,>=0.9.2 in /usr/local/lib/python3.6/dist-packages (from earthengine-api->geemap) (0.17.4)\n",
      "Requirement already satisfied: google-auth>=1.4.1 in /usr/local/lib/python3.6/dist-packages (from earthengine-api->geemap) (1.17.2)\n",
      "Requirement already satisfied: google-cloud-storage in /usr/local/lib/python3.6/dist-packages (from earthengine-api->geemap) (1.18.1)\n",
      "Requirement already satisfied: google-auth-httplib2>=0.0.3 in /usr/local/lib/python3.6/dist-packages (from earthengine-api->geemap) (0.0.3)\n",
      "Requirement already satisfied: pandas in /usr/local/lib/python3.6/dist-packages (from bqplot->geemap) (1.0.4)\n",
      "Requirement already satisfied: traitlets>=4.3.0 in /usr/local/lib/python3.6/dist-packages (from bqplot->geemap) (4.3.3)\n",
      "Requirement already satisfied: numpy>=1.10.4 in /usr/local/lib/python3.6/dist-packages (from bqplot->geemap) (1.18.5)\n",
      "Requirement already satisfied: kiwisolver>=1.0.1 in /usr/local/lib/python3.6/dist-packages (from matplotlib->geemap) (1.2.0)\n",
      "Requirement already satisfied: cycler>=0.10 in /usr/local/lib/python3.6/dist-packages (from matplotlib->geemap) (0.10.0)\n",
      "Requirement already satisfied: pyparsing!=2.0.4,!=2.1.2,!=2.1.6,>=2.0.1 in /usr/local/lib/python3.6/dist-packages (from matplotlib->geemap) (2.4.7)\n",
      "Requirement already satisfied: python-dateutil>=2.1 in /usr/local/lib/python3.6/dist-packages (from matplotlib->geemap) (2.8.1)\n",
      "Requirement already satisfied: jinja2>=2.9 in /usr/local/lib/python3.6/dist-packages (from folium>=0.11.0->geemap) (2.11.2)\n",
      "Requirement already satisfied: chardet<4,>=3.0.2 in /usr/local/lib/python3.6/dist-packages (from requests->geocoder->geemap) (3.0.4)\n",
      "Requirement already satisfied: idna<3,>=2.5 in /usr/local/lib/python3.6/dist-packages (from requests->geocoder->geemap) (2.9)\n",
      "Requirement already satisfied: decorator in /usr/local/lib/python3.6/dist-packages (from ratelim->geocoder->geemap) (4.4.2)\n",
      "Requirement already satisfied: widgetsnbextension~=3.5.0 in /usr/local/lib/python3.6/dist-packages (from ipywidgets<8,>=7.5.0->ipyleaflet>=0.12.6->geemap) (3.5.1)\n",
      "Requirement already satisfied: ipython>=4.0.0; python_version >= \"3.3\" in /usr/local/lib/python3.6/dist-packages (from ipywidgets<8,>=7.5.0->ipyleaflet>=0.12.6->geemap) (5.5.0)\n",
      "Requirement already satisfied: nbformat>=4.2.0 in /usr/local/lib/python3.6/dist-packages (from ipywidgets<8,>=7.5.0->ipyleaflet>=0.12.6->geemap) (5.0.7)\n",
      "Requirement already satisfied: ipykernel>=4.5.1 in /usr/local/lib/python3.6/dist-packages (from ipywidgets<8,>=7.5.0->ipyleaflet>=0.12.6->geemap) (4.10.1)\n",
      "Requirement already satisfied: soupsieve>1.2 in /usr/local/lib/python3.6/dist-packages (from beautifulsoup4>=4.9.0->geeadd>=0.4.8->geemap) (2.0.1)\n",
      "Requirement already satisfied: uritemplate<4dev,>=3.0.0 in /usr/local/lib/python3.6/dist-packages (from google-api-python-client->earthengine-api->geemap) (3.0.1)\n",
      "Requirement already satisfied: cachetools<5.0,>=2.0.0 in /usr/local/lib/python3.6/dist-packages (from google-auth>=1.4.1->earthengine-api->geemap) (4.1.0)\n",
      "Requirement already satisfied: setuptools>=40.3.0 in /usr/local/lib/python3.6/dist-packages (from google-auth>=1.4.1->earthengine-api->geemap) (47.3.1)\n",
      "Requirement already satisfied: pyasn1-modules>=0.2.1 in /usr/local/lib/python3.6/dist-packages (from google-auth>=1.4.1->earthengine-api->geemap) (0.2.8)\n",
      "Requirement already satisfied: rsa<5,>=3.1.4; python_version >= \"3\" in /usr/local/lib/python3.6/dist-packages (from google-auth>=1.4.1->earthengine-api->geemap) (4.6)\n",
      "Requirement already satisfied: google-cloud-core<2.0dev,>=1.0.0 in /usr/local/lib/python3.6/dist-packages (from google-cloud-storage->earthengine-api->geemap) (1.0.3)\n",
      "Requirement already satisfied: google-resumable-media<0.5.0dev,>=0.3.1 in /usr/local/lib/python3.6/dist-packages (from google-cloud-storage->earthengine-api->geemap) (0.4.1)\n",
      "Requirement already satisfied: pytz>=2017.2 in /usr/local/lib/python3.6/dist-packages (from pandas->bqplot->geemap) (2018.9)\n",
      "Requirement already satisfied: ipython-genutils in /usr/local/lib/python3.6/dist-packages (from traitlets>=4.3.0->bqplot->geemap) (0.2.0)\n",
      "Requirement already satisfied: MarkupSafe>=0.23 in /usr/local/lib/python3.6/dist-packages (from jinja2>=2.9->folium>=0.11.0->geemap) (1.1.1)\n",
      "Requirement already satisfied: notebook>=4.4.1 in /usr/local/lib/python3.6/dist-packages (from widgetsnbextension~=3.5.0->ipywidgets<8,>=7.5.0->ipyleaflet>=0.12.6->geemap) (5.2.2)\n",
      "Requirement already satisfied: pexpect; sys_platform != \"win32\" in /usr/local/lib/python3.6/dist-packages (from ipython>=4.0.0; python_version >= \"3.3\"->ipywidgets<8,>=7.5.0->ipyleaflet>=0.12.6->geemap) (4.8.0)\n",
      "Requirement already satisfied: simplegeneric>0.8 in /usr/local/lib/python3.6/dist-packages (from ipython>=4.0.0; python_version >= \"3.3\"->ipywidgets<8,>=7.5.0->ipyleaflet>=0.12.6->geemap) (0.8.1)\n",
      "Requirement already satisfied: pickleshare in /usr/local/lib/python3.6/dist-packages (from ipython>=4.0.0; python_version >= \"3.3\"->ipywidgets<8,>=7.5.0->ipyleaflet>=0.12.6->geemap) (0.7.5)\n",
      "Requirement already satisfied: prompt-toolkit<2.0.0,>=1.0.4 in /usr/local/lib/python3.6/dist-packages (from ipython>=4.0.0; python_version >= \"3.3\"->ipywidgets<8,>=7.5.0->ipyleaflet>=0.12.6->geemap) (1.0.18)\n",
      "Requirement already satisfied: pygments in /usr/local/lib/python3.6/dist-packages (from ipython>=4.0.0; python_version >= \"3.3\"->ipywidgets<8,>=7.5.0->ipyleaflet>=0.12.6->geemap) (2.1.3)\n",
      "Requirement already satisfied: jsonschema!=2.5.0,>=2.4 in /usr/local/lib/python3.6/dist-packages (from nbformat>=4.2.0->ipywidgets<8,>=7.5.0->ipyleaflet>=0.12.6->geemap) (2.6.0)\n",
      "Requirement already satisfied: jupyter-core in /usr/local/lib/python3.6/dist-packages (from nbformat>=4.2.0->ipywidgets<8,>=7.5.0->ipyleaflet>=0.12.6->geemap) (4.6.3)\n",
      "Requirement already satisfied: jupyter-client in /usr/local/lib/python3.6/dist-packages (from ipykernel>=4.5.1->ipywidgets<8,>=7.5.0->ipyleaflet>=0.12.6->geemap) (5.3.4)\n",
      "Requirement already satisfied: tornado>=4.0 in /usr/local/lib/python3.6/dist-packages (from ipykernel>=4.5.1->ipywidgets<8,>=7.5.0->ipyleaflet>=0.12.6->geemap) (4.5.3)\n",
      "Requirement already satisfied: pyasn1<0.5.0,>=0.4.6 in /usr/local/lib/python3.6/dist-packages (from pyasn1-modules>=0.2.1->google-auth>=1.4.1->earthengine-api->geemap) (0.4.8)\n",
      "Requirement already satisfied: google-api-core<2.0.0dev,>=1.14.0 in /usr/local/lib/python3.6/dist-packages (from google-cloud-core<2.0dev,>=1.0.0->google-cloud-storage->earthengine-api->geemap) (1.16.0)\n",
      "Requirement already satisfied: nbconvert in /usr/local/lib/python3.6/dist-packages (from notebook>=4.4.1->widgetsnbextension~=3.5.0->ipywidgets<8,>=7.5.0->ipyleaflet>=0.12.6->geemap) (5.6.1)\n",
      "Requirement already satisfied: terminado>=0.3.3; sys_platform != \"win32\" in /usr/local/lib/python3.6/dist-packages (from notebook>=4.4.1->widgetsnbextension~=3.5.0->ipywidgets<8,>=7.5.0->ipyleaflet>=0.12.6->geemap) (0.8.3)\n",
      "Requirement already satisfied: ptyprocess>=0.5 in /usr/local/lib/python3.6/dist-packages (from pexpect; sys_platform != \"win32\"->ipython>=4.0.0; python_version >= \"3.3\"->ipywidgets<8,>=7.5.0->ipyleaflet>=0.12.6->geemap) (0.6.0)\n",
      "Requirement already satisfied: wcwidth in /usr/local/lib/python3.6/dist-packages (from prompt-toolkit<2.0.0,>=1.0.4->ipython>=4.0.0; python_version >= \"3.3\"->ipywidgets<8,>=7.5.0->ipyleaflet>=0.12.6->geemap) (0.2.4)\n",
      "Requirement already satisfied: pyzmq>=13 in /usr/local/lib/python3.6/dist-packages (from jupyter-client->ipykernel>=4.5.1->ipywidgets<8,>=7.5.0->ipyleaflet>=0.12.6->geemap) (19.0.1)\n",
      "Requirement already satisfied: googleapis-common-protos<2.0dev,>=1.6.0 in /usr/local/lib/python3.6/dist-packages (from google-api-core<2.0.0dev,>=1.14.0->google-cloud-core<2.0dev,>=1.0.0->google-cloud-storage->earthengine-api->geemap) (1.52.0)\n",
      "Requirement already satisfied: protobuf>=3.4.0 in /usr/local/lib/python3.6/dist-packages (from google-api-core<2.0.0dev,>=1.14.0->google-cloud-core<2.0dev,>=1.0.0->google-cloud-storage->earthengine-api->geemap) (3.10.0)\n",
      "Requirement already satisfied: bleach in /usr/local/lib/python3.6/dist-packages (from nbconvert->notebook>=4.4.1->widgetsnbextension~=3.5.0->ipywidgets<8,>=7.5.0->ipyleaflet>=0.12.6->geemap) (3.1.5)\n",
      "Requirement already satisfied: entrypoints>=0.2.2 in /usr/local/lib/python3.6/dist-packages (from nbconvert->notebook>=4.4.1->widgetsnbextension~=3.5.0->ipywidgets<8,>=7.5.0->ipyleaflet>=0.12.6->geemap) (0.3)\n",
      "Requirement already satisfied: pandocfilters>=1.4.1 in /usr/local/lib/python3.6/dist-packages (from nbconvert->notebook>=4.4.1->widgetsnbextension~=3.5.0->ipywidgets<8,>=7.5.0->ipyleaflet>=0.12.6->geemap) (1.4.2)\n",
      "Requirement already satisfied: testpath in /usr/local/lib/python3.6/dist-packages (from nbconvert->notebook>=4.4.1->widgetsnbextension~=3.5.0->ipywidgets<8,>=7.5.0->ipyleaflet>=0.12.6->geemap) (0.4.4)\n",
      "Requirement already satisfied: defusedxml in /usr/local/lib/python3.6/dist-packages (from nbconvert->notebook>=4.4.1->widgetsnbextension~=3.5.0->ipywidgets<8,>=7.5.0->ipyleaflet>=0.12.6->geemap) (0.6.0)\n",
      "Requirement already satisfied: mistune<2,>=0.8.1 in /usr/local/lib/python3.6/dist-packages (from nbconvert->notebook>=4.4.1->widgetsnbextension~=3.5.0->ipywidgets<8,>=7.5.0->ipyleaflet>=0.12.6->geemap) (0.8.4)\n",
      "Requirement already satisfied: webencodings in /usr/local/lib/python3.6/dist-packages (from bleach->nbconvert->notebook>=4.4.1->widgetsnbextension~=3.5.0->ipywidgets<8,>=7.5.0->ipyleaflet>=0.12.6->geemap) (0.5.1)\n",
      "Requirement already satisfied: packaging in /usr/local/lib/python3.6/dist-packages (from bleach->nbconvert->notebook>=4.4.1->widgetsnbextension~=3.5.0->ipywidgets<8,>=7.5.0->ipyleaflet>=0.12.6->geemap) (20.4)\n",
      "\u001b[31mERROR: datascience 0.10.6 has requirement folium==0.2.1, but you'll have folium 0.11.0 which is incompatible.\u001b[0m\n",
      "Installing collected packages: branca\n",
      "  Found existing installation: branca 0.4.1\n",
      "    Uninstalling branca-0.4.1:\n",
      "      Successfully uninstalled branca-0.4.1\n",
      "Successfully installed branca-0.3.1\n"
     ]
    }
   ],
   "source": [
    "!pip install geemap\n"
   ]
  },
  {
   "cell_type": "code",
   "execution_count": 7,
   "metadata": {
    "colab": {
     "base_uri": "https://localhost:8080/",
     "height": 968
    },
    "colab_type": "code",
    "id": "MFeQBhU0taru",
    "outputId": "08374cca-38fc-4f51-f3e2-5af6a4d80364"
   },
   "outputs": [
    {
     "data": {
      "text/html": [
       "<div style=\"width:100%;\"><div style=\"position:relative;width:100%;height:0;padding-bottom:60%;\"><iframe src=\"about:blank\" style=\"position:absolute;width:100%;height:100%;left:0;top:0;border:none !important;\" data-html=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 onload=\"this.contentDocument.open();this.contentDocument.write(atob(this.getAttribute('data-html')));this.contentDocument.close();\" allowfullscreen webkitallowfullscreen mozallowfullscreen></iframe></div></div>"
      ],
      "text/plain": [
       "<geemap.eefolium.Map at 0x1e6087f5860>"
      ]
     },
     "execution_count": 7,
     "metadata": {},
     "output_type": "execute_result"
    }
   ],
   "source": [
    "import geemap.eefolium as emap"
   ]
  },
  {
   "cell_type": "code",
   "execution_count": 8,
   "metadata": {
    "colab": {},
    "colab_type": "code",
    "id": "Bgp1nZgKtgg1"
   },
   "outputs": [],
   "source": [
    "ca_shp = 'ca-state-boundary/CA_State_TIGER2016.shp'\n",
    "ca_shp_gee = emap.shp_to_ee(ca_shp)\n"
   ]
  },
  {
   "cell_type": "markdown",
   "metadata": {
    "colab_type": "text",
    "id": "Sw49HKtCst41"
   },
   "source": [
    "### Using GEE_Asset_Manager to batch upload images"
   ]
  },
  {
   "cell_type": "code",
   "execution_count": null,
   "metadata": {
    "colab": {
     "base_uri": "https://localhost:8080/",
     "height": 159
    },
    "colab_type": "code",
    "id": "y9gMP7Aphgl_",
    "outputId": "9e19e706-fdbe-4312-dfad-cb063854cb53"
   },
   "outputs": [
    {
     "name": "stdout",
     "output_type": "stream",
     "text": [
      "Reading package lists... Done\n",
      "Building dependency tree       \n",
      "Reading state information... Done\n",
      "git is already the newest version (1:2.17.1-1ubuntu0.7).\n",
      "The following package was automatically installed and is no longer required:\n",
      "  libnvidia-common-440\n",
      "Use 'sudo apt autoremove' to remove it.\n",
      "0 upgraded, 0 newly installed, 0 to remove and 43 not upgraded.\n"
     ]
    }
   ],
   "source": [
    "!sudo apt-get install git"
   ]
  },
  {
   "cell_type": "code",
   "execution_count": null,
   "metadata": {
    "colab": {
     "base_uri": "https://localhost:8080/",
     "height": 141
    },
    "colab_type": "code",
    "id": "o1Tc0chJpPuM",
    "outputId": "898d4540-21c0-47fa-f96a-da931d7f7589"
   },
   "outputs": [
    {
     "name": "stdout",
     "output_type": "stream",
     "text": [
      "Cloning into 'gee_asset_manager'...\n",
      "remote: Enumerating objects: 137, done.\u001b[K\n",
      "remote: Counting objects: 100% (137/137), done.\u001b[K\n",
      "remote: Compressing objects: 100% (97/97), done.\u001b[K\n",
      "remote: Total 662 (delta 42), reused 119 (delta 30), pack-reused 525\u001b[K\n",
      "Receiving objects: 100% (662/662), 827.65 KiB | 1.12 MiB/s, done.\n",
      "Resolving deltas: 100% (376/376), done.\n"
     ]
    }
   ],
   "source": [
    "!git clone https://github.com/tracek/gee_asset_manager.git"
   ]
  },
  {
   "cell_type": "code",
   "execution_count": null,
   "metadata": {
    "colab": {
     "base_uri": "https://localhost:8080/",
     "height": 35
    },
    "colab_type": "code",
    "id": "dB-AjWM3pTId",
    "outputId": "c0a8be98-7af4-4d4d-99f7-80f52860d932"
   },
   "outputs": [
    {
     "name": "stdout",
     "output_type": "stream",
     "text": [
      "/content/drive/My Drive/Research/BFI Farmview/Climate Data/gee_asset_manager\n"
     ]
    }
   ],
   "source": [
    "asset_path = data_path + '/gee_asset_manager'\n",
    "os.chdir(asset_path)\n",
    "!pwd"
   ]
  },
  {
   "cell_type": "code",
   "execution_count": null,
   "metadata": {
    "colab": {
     "base_uri": "https://localhost:8080/",
     "height": 1000
    },
    "colab_type": "code",
    "id": "NJgQ09_ppb3K",
    "outputId": "9d98da1d-9a38-450a-b1b9-bc17de982fd9"
   },
   "outputs": [
    {
     "name": "stdout",
     "output_type": "stream",
     "text": [
      "running install\n",
      "running bdist_egg\n",
      "running egg_info\n",
      "creating geebam.egg-info\n",
      "writing geebam.egg-info/PKG-INFO\n",
      "writing dependency_links to geebam.egg-info/dependency_links.txt\n",
      "writing entry points to geebam.egg-info/entry_points.txt\n",
      "writing requirements to geebam.egg-info/requires.txt\n",
      "writing top-level names to geebam.egg-info/top_level.txt\n",
      "writing manifest file 'geebam.egg-info/SOURCES.txt'\n",
      "writing manifest file 'geebam.egg-info/SOURCES.txt'\n",
      "installing library code to build/bdist.linux-x86_64/egg\n",
      "running install_lib\n",
      "running build_py\n",
      "creating build\n",
      "creating build/lib\n",
      "creating build/lib/gee_asset_manager\n",
      "copying gee_asset_manager/__init__.py -> build/lib/gee_asset_manager\n",
      "copying gee_asset_manager/batch_copy.py -> build/lib/gee_asset_manager\n",
      "copying gee_asset_manager/batch_info.py -> build/lib/gee_asset_manager\n",
      "copying gee_asset_manager/batch_remover.py -> build/lib/gee_asset_manager\n",
      "copying gee_asset_manager/batch_uploader.py -> build/lib/gee_asset_manager\n",
      "copying gee_asset_manager/config.py -> build/lib/gee_asset_manager\n",
      "copying gee_asset_manager/metadata_loader.py -> build/lib/gee_asset_manager\n",
      "copying gee_asset_manager/session.py -> build/lib/gee_asset_manager\n",
      "copying gee_asset_manager/logconfig.json -> build/lib/gee_asset_manager\n",
      "creating build/bdist.linux-x86_64\n",
      "creating build/bdist.linux-x86_64/egg\n",
      "creating build/bdist.linux-x86_64/egg/gee_asset_manager\n",
      "copying build/lib/gee_asset_manager/__init__.py -> build/bdist.linux-x86_64/egg/gee_asset_manager\n",
      "copying build/lib/gee_asset_manager/batch_copy.py -> build/bdist.linux-x86_64/egg/gee_asset_manager\n",
      "copying build/lib/gee_asset_manager/batch_info.py -> build/bdist.linux-x86_64/egg/gee_asset_manager\n",
      "copying build/lib/gee_asset_manager/batch_remover.py -> build/bdist.linux-x86_64/egg/gee_asset_manager\n",
      "copying build/lib/gee_asset_manager/batch_uploader.py -> build/bdist.linux-x86_64/egg/gee_asset_manager\n",
      "copying build/lib/gee_asset_manager/config.py -> build/bdist.linux-x86_64/egg/gee_asset_manager\n",
      "copying build/lib/gee_asset_manager/metadata_loader.py -> build/bdist.linux-x86_64/egg/gee_asset_manager\n",
      "copying build/lib/gee_asset_manager/session.py -> build/bdist.linux-x86_64/egg/gee_asset_manager\n",
      "copying build/lib/gee_asset_manager/logconfig.json -> build/bdist.linux-x86_64/egg/gee_asset_manager\n",
      "byte-compiling build/bdist.linux-x86_64/egg/gee_asset_manager/__init__.py to __init__.cpython-36.pyc\n",
      "byte-compiling build/bdist.linux-x86_64/egg/gee_asset_manager/batch_copy.py to batch_copy.cpython-36.pyc\n",
      "byte-compiling build/bdist.linux-x86_64/egg/gee_asset_manager/batch_info.py to batch_info.cpython-36.pyc\n",
      "byte-compiling build/bdist.linux-x86_64/egg/gee_asset_manager/batch_remover.py to batch_remover.cpython-36.pyc\n",
      "byte-compiling build/bdist.linux-x86_64/egg/gee_asset_manager/batch_uploader.py to batch_uploader.cpython-36.pyc\n",
      "byte-compiling build/bdist.linux-x86_64/egg/gee_asset_manager/config.py to config.cpython-36.pyc\n",
      "byte-compiling build/bdist.linux-x86_64/egg/gee_asset_manager/metadata_loader.py to metadata_loader.cpython-36.pyc\n",
      "byte-compiling build/bdist.linux-x86_64/egg/gee_asset_manager/session.py to session.cpython-36.pyc\n",
      "creating build/bdist.linux-x86_64/egg/EGG-INFO\n",
      "copying geebam.egg-info/PKG-INFO -> build/bdist.linux-x86_64/egg/EGG-INFO\n",
      "copying geebam.egg-info/SOURCES.txt -> build/bdist.linux-x86_64/egg/EGG-INFO\n",
      "copying geebam.egg-info/dependency_links.txt -> build/bdist.linux-x86_64/egg/EGG-INFO\n",
      "copying geebam.egg-info/entry_points.txt -> build/bdist.linux-x86_64/egg/EGG-INFO\n",
      "copying geebam.egg-info/requires.txt -> build/bdist.linux-x86_64/egg/EGG-INFO\n",
      "copying geebam.egg-info/top_level.txt -> build/bdist.linux-x86_64/egg/EGG-INFO\n",
      "zip_safe flag not set; analyzing archive contents...\n",
      "gee_asset_manager.__pycache__.config.cpython-36: module references __file__\n",
      "creating dist\n",
      "creating 'dist/geebam-0.1.5-py3.6.egg' and adding 'build/bdist.linux-x86_64/egg' to it\n",
      "removing 'build/bdist.linux-x86_64/egg' (and everything under it)\n",
      "Processing geebam-0.1.5-py3.6.egg\n",
      "creating /usr/local/lib/python3.6/dist-packages/geebam-0.1.5-py3.6.egg\n",
      "Extracting geebam-0.1.5-py3.6.egg to /usr/local/lib/python3.6/dist-packages\n",
      "Adding geebam 0.1.5 to easy-install.pth file\n",
      "Installing geebam script to /usr/local/bin\n",
      "\n",
      "Installed /usr/local/lib/python3.6/dist-packages/geebam-0.1.5-py3.6.egg\n",
      "Processing dependencies for geebam==0.1.5\n",
      "Searching for selenium\n",
      "Reading https://pypi.org/simple/selenium/\n",
      "Downloading https://files.pythonhosted.org/packages/2b/b6/53b86357953961faaccdf5413c83d72a2efaf279b73bc80d3cb2e8d1c64c/selenium-4.0.0a6.post2-py2.py3-none-any.whl#sha256=a9779ddc69cf03b75d94062c5e948f763919cf3341c77272f94cd05e6b4c7b32\n",
      "Best match: selenium 4.0.0a6.post2\n",
      "Processing selenium-4.0.0a6.post2-py2.py3-none-any.whl\n",
      "Installing selenium-4.0.0a6.post2-py2.py3-none-any.whl to /usr/local/lib/python3.6/dist-packages\n",
      "Adding selenium 4.0.0a6.post2 to easy-install.pth file\n",
      "\n",
      "Installed /usr/local/lib/python3.6/dist-packages/selenium-4.0.0a6.post2-py3.6.egg\n",
      "Searching for chromedriver-binary\n",
      "Reading https://pypi.org/simple/chromedriver-binary/\n",
      "Downloading https://files.pythonhosted.org/packages/55/b2/e436c50eecbd208cf70adc1e107e4478bbf78057ffb6cf11a79cbf11e8f8/chromedriver-binary-84.0.4147.30.0.tar.gz#sha256=206b071a0ee8f55b3337c8008a467e9fb3001b331d599e16083ccd48a9a0f579\n",
      "Best match: chromedriver-binary 84.0.4147.30.0\n",
      "Processing chromedriver-binary-84.0.4147.30.0.tar.gz\n",
      "Writing /tmp/easy_install-x2zd2udv/chromedriver-binary-84.0.4147.30.0/setup.cfg\n",
      "Running chromedriver-binary-84.0.4147.30.0/setup.py -q bdist_egg --dist-dir /tmp/easy_install-x2zd2udv/chromedriver-binary-84.0.4147.30.0/egg-dist-tmp-ihkr9fku\n",
      "\n",
      "Downloading Chromedriver...\n",
      "\n",
      "zip_safe flag not set; analyzing archive contents...\n",
      "chromedriver_binary.__pycache__.__init__.cpython-36: module references __file__\n",
      "chromedriver_binary.__pycache__.utils.cpython-36: module references __file__\n",
      "creating /usr/local/lib/python3.6/dist-packages/chromedriver_binary-84.0.4147.30.0-py3.6.egg\n",
      "Extracting chromedriver_binary-84.0.4147.30.0-py3.6.egg to /usr/local/lib/python3.6/dist-packages\n",
      "Adding chromedriver-binary 84.0.4147.30.0 to easy-install.pth file\n",
      "Installing chromedriver-path script to /usr/local/bin\n",
      "\n",
      "Installed /usr/local/lib/python3.6/dist-packages/chromedriver_binary-84.0.4147.30.0-py3.6.egg\n",
      "Searching for requests_toolbelt\n",
      "Reading https://pypi.org/simple/requests_toolbelt/\n",
      "Downloading https://files.pythonhosted.org/packages/60/ef/7681134338fc097acef8d9b2f8abe0458e4d87559c689a8c306d0957ece5/requests_toolbelt-0.9.1-py2.py3-none-any.whl#sha256=380606e1d10dc85c3bd47bf5a6095f815ec007be7a8b69c878507068df059e6f\n",
      "Best match: requests-toolbelt 0.9.1\n",
      "Processing requests_toolbelt-0.9.1-py2.py3-none-any.whl\n",
      "Installing requests_toolbelt-0.9.1-py2.py3-none-any.whl to /usr/local/lib/python3.6/dist-packages\n",
      "Adding requests-toolbelt 0.9.1 to easy-install.pth file\n",
      "\n",
      "Installed /usr/local/lib/python3.6/dist-packages/requests_toolbelt-0.9.1-py3.6.egg\n",
      "Searching for pyOpenSSL>=0.14; extra == \"secure\"\n",
      "Reading https://pypi.org/simple/pyOpenSSL/\n",
      "Downloading https://files.pythonhosted.org/packages/9e/de/f8342b68fa9e981d348039954657bdf681b2ab93de27443be51865ffa310/pyOpenSSL-19.1.0-py2.py3-none-any.whl#sha256=621880965a720b8ece2f1b2f54ea2071966ab00e2970ad2ce11d596102063504\n",
      "Best match: pyOpenSSL 19.1.0\n",
      "Processing pyOpenSSL-19.1.0-py2.py3-none-any.whl\n",
      "Installing pyOpenSSL-19.1.0-py2.py3-none-any.whl to /usr/local/lib/python3.6/dist-packages\n",
      "Adding pyOpenSSL 19.1.0 to easy-install.pth file\n",
      "\n",
      "Installed /usr/local/lib/python3.6/dist-packages/pyOpenSSL-19.1.0-py3.6.egg\n",
      "Searching for ipaddress; extra == \"secure\"\n",
      "Reading https://pypi.org/simple/ipaddress/\n",
      "Downloading https://files.pythonhosted.org/packages/c2/f8/49697181b1651d8347d24c095ce46c7346c37335ddc7d255833e7cde674d/ipaddress-1.0.23-py2.py3-none-any.whl#sha256=6e0f4a39e66cb5bb9a137b00276a2eff74f93b71dcbdad6f10ff7df9d3557fcc\n",
      "Best match: ipaddress 1.0.23\n",
      "Processing ipaddress-1.0.23-py2.py3-none-any.whl\n",
      "Installing ipaddress-1.0.23-py2.py3-none-any.whl to /usr/local/lib/python3.6/dist-packages\n",
      "Adding ipaddress 1.0.23 to easy-install.pth file\n",
      "\n",
      "Installed /usr/local/lib/python3.6/dist-packages/ipaddress-1.0.23-py3.6.egg\n",
      "Searching for cryptography>=1.3.4; extra == \"secure\"\n",
      "Reading https://pypi.org/simple/cryptography/\n",
      "Downloading https://files.pythonhosted.org/packages/58/95/f1282ca55649b60afcf617e1e2ca384a2a3e7a5cf91f724cf83c8fbe76a1/cryptography-2.9.2-cp35-abi3-manylinux1_x86_64.whl#sha256=e993468c859d084d5579e2ebee101de8f5a27ce8e2159959b6673b418fd8c785\n",
      "Best match: cryptography 2.9.2\n",
      "Processing cryptography-2.9.2-cp35-abi3-manylinux1_x86_64.whl\n",
      "Installing cryptography-2.9.2-cp35-abi3-manylinux1_x86_64.whl to /usr/local/lib/python3.6/dist-packages\n",
      "Adding cryptography 2.9.2 to easy-install.pth file\n",
      "\n",
      "Installed /usr/local/lib/python3.6/dist-packages/cryptography-2.9.2-py3.6-linux-x86_64.egg\n",
      "Searching for google-cloud-storage==1.18.1\n",
      "Best match: google-cloud-storage 1.18.1\n",
      "Adding google-cloud-storage 1.18.1 to easy-install.pth file\n",
      "\n",
      "Using /usr/local/lib/python3.6/dist-packages\n",
      "Searching for future==0.16.0\n",
      "Best match: future 0.16.0\n",
      "Adding future 0.16.0 to easy-install.pth file\n",
      "Installing futurize script to /usr/local/bin\n",
      "Installing pasteurize script to /usr/local/bin\n",
      "\n",
      "Using /usr/local/lib/python3.6/dist-packages\n",
      "Searching for pytest==3.6.4\n",
      "Best match: pytest 3.6.4\n",
      "Adding pytest 3.6.4 to easy-install.pth file\n",
      "Installing py.test script to /usr/local/bin\n",
      "Installing pytest script to /usr/local/bin\n",
      "\n",
      "Using /usr/local/lib/python3.6/dist-packages\n",
      "Searching for beautifulsoup4==4.6.3\n",
      "Best match: beautifulsoup4 4.6.3\n",
      "Adding beautifulsoup4 4.6.3 to easy-install.pth file\n",
      "\n",
      "Using /usr/local/lib/python3.6/dist-packages\n",
      "Searching for retrying==1.3.3\n",
      "Best match: retrying 1.3.3\n",
      "Adding retrying 1.3.3 to easy-install.pth file\n",
      "\n",
      "Using /usr/local/lib/python3.6/dist-packages\n",
      "Searching for requests==2.23.0\n",
      "Best match: requests 2.23.0\n",
      "Adding requests 2.23.0 to easy-install.pth file\n",
      "\n",
      "Using /usr/local/lib/python3.6/dist-packages\n",
      "Searching for earthengine-api==0.1.225\n",
      "Best match: earthengine-api 0.1.225\n",
      "Adding earthengine-api 0.1.225 to easy-install.pth file\n",
      "Installing earthengine script to /usr/local/bin\n",
      "\n",
      "Using /usr/local/lib/python3.6/dist-packages\n",
      "Searching for urllib3==1.24.3\n",
      "Best match: urllib3 1.24.3\n",
      "Adding urllib3 1.24.3 to easy-install.pth file\n",
      "\n",
      "Using /usr/local/lib/python3.6/dist-packages\n",
      "Searching for google-resumable-media==0.4.1\n",
      "Best match: google-resumable-media 0.4.1\n",
      "Adding google-resumable-media 0.4.1 to easy-install.pth file\n",
      "\n",
      "Using /usr/local/lib/python3.6/dist-packages\n",
      "Searching for google-cloud-core==1.0.3\n",
      "Best match: google-cloud-core 1.0.3\n",
      "Adding google-cloud-core 1.0.3 to easy-install.pth file\n",
      "\n",
      "Using /usr/local/lib/python3.6/dist-packages\n",
      "Searching for google-auth==1.17.2\n",
      "Best match: google-auth 1.17.2\n",
      "Adding google-auth 1.17.2 to easy-install.pth file\n",
      "\n",
      "Using /usr/local/lib/python3.6/dist-packages\n",
      "Searching for setuptools==47.1.1\n",
      "Best match: setuptools 47.1.1\n",
      "Adding setuptools 47.1.1 to easy-install.pth file\n",
      "Installing easy_install script to /usr/local/bin\n",
      "Installing easy_install-3.8 script to /usr/local/bin\n",
      "\n",
      "Using /usr/local/lib/python3.6/dist-packages\n",
      "Searching for more-itertools==8.4.0\n",
      "Best match: more-itertools 8.4.0\n",
      "Adding more-itertools 8.4.0 to easy-install.pth file\n",
      "\n",
      "Using /usr/local/lib/python3.6/dist-packages\n",
      "Searching for attrs==19.3.0\n",
      "Best match: attrs 19.3.0\n",
      "Adding attrs 19.3.0 to easy-install.pth file\n",
      "\n",
      "Using /usr/local/lib/python3.6/dist-packages\n",
      "Searching for pluggy==0.7.1\n",
      "Best match: pluggy 0.7.1\n",
      "Adding pluggy 0.7.1 to easy-install.pth file\n",
      "\n",
      "Using /usr/local/lib/python3.6/dist-packages\n",
      "Searching for py==1.8.1\n",
      "Best match: py 1.8.1\n",
      "Adding py 1.8.1 to easy-install.pth file\n",
      "\n",
      "Using /usr/local/lib/python3.6/dist-packages\n",
      "Searching for atomicwrites==1.4.0\n",
      "Best match: atomicwrites 1.4.0\n",
      "Adding atomicwrites 1.4.0 to easy-install.pth file\n",
      "\n",
      "Using /usr/local/lib/python3.6/dist-packages\n",
      "Searching for six==1.12.0\n",
      "Best match: six 1.12.0\n",
      "Adding six 1.12.0 to easy-install.pth file\n",
      "\n",
      "Using /usr/local/lib/python3.6/dist-packages\n",
      "Searching for certifi==2020.4.5.2\n",
      "Best match: certifi 2020.4.5.2\n",
      "Adding certifi 2020.4.5.2 to easy-install.pth file\n",
      "\n",
      "Using /usr/local/lib/python3.6/dist-packages\n",
      "Searching for idna==2.9\n",
      "Best match: idna 2.9\n",
      "Adding idna 2.9 to easy-install.pth file\n",
      "\n",
      "Using /usr/local/lib/python3.6/dist-packages\n",
      "Searching for chardet==3.0.4\n",
      "Best match: chardet 3.0.4\n",
      "Adding chardet 3.0.4 to easy-install.pth file\n",
      "Installing chardetect script to /usr/local/bin\n",
      "\n",
      "Using /usr/local/lib/python3.6/dist-packages\n",
      "Searching for httplib2shim==0.0.3\n",
      "Best match: httplib2shim 0.0.3\n",
      "Adding httplib2shim 0.0.3 to easy-install.pth file\n",
      "\n",
      "Using /usr/local/lib/python3.6/dist-packages\n",
      "Searching for httplib2==0.17.4\n",
      "Best match: httplib2 0.17.4\n",
      "Adding httplib2 0.17.4 to easy-install.pth file\n",
      "\n",
      "Using /usr/local/lib/python3.6/dist-packages\n",
      "Searching for google-auth-httplib2==0.0.3\n",
      "Best match: google-auth-httplib2 0.0.3\n",
      "Adding google-auth-httplib2 0.0.3 to easy-install.pth file\n",
      "\n",
      "Using /usr/local/lib/python3.6/dist-packages\n",
      "Searching for google-api-python-client==1.7.12\n",
      "Best match: google-api-python-client 1.7.12\n",
      "Adding google-api-python-client 1.7.12 to easy-install.pth file\n",
      "\n",
      "Using /usr/local/lib/python3.6/dist-packages\n",
      "Searching for google-api-core==1.16.0\n",
      "Best match: google-api-core 1.16.0\n",
      "Adding google-api-core 1.16.0 to easy-install.pth file\n",
      "\n",
      "Using /usr/local/lib/python3.6/dist-packages\n",
      "Searching for pyasn1-modules==0.2.8\n",
      "Best match: pyasn1-modules 0.2.8\n",
      "Adding pyasn1-modules 0.2.8 to easy-install.pth file\n",
      "\n",
      "Using /usr/local/lib/python3.6/dist-packages\n",
      "Searching for cachetools==4.1.0\n",
      "Best match: cachetools 4.1.0\n",
      "Adding cachetools 4.1.0 to easy-install.pth file\n",
      "\n",
      "Using /usr/local/lib/python3.6/dist-packages\n",
      "Searching for rsa==4.6\n",
      "Best match: rsa 4.6\n",
      "Adding rsa 4.6 to easy-install.pth file\n",
      "Installing pyrsa-decrypt script to /usr/local/bin\n",
      "Installing pyrsa-encrypt script to /usr/local/bin\n",
      "Installing pyrsa-keygen script to /usr/local/bin\n",
      "Installing pyrsa-priv2pub script to /usr/local/bin\n",
      "Installing pyrsa-sign script to /usr/local/bin\n",
      "Installing pyrsa-verify script to /usr/local/bin\n",
      "\n",
      "Using /usr/local/lib/python3.6/dist-packages\n",
      "Searching for uritemplate==3.0.1\n",
      "Best match: uritemplate 3.0.1\n",
      "Adding uritemplate 3.0.1 to easy-install.pth file\n",
      "\n",
      "Using /usr/local/lib/python3.6/dist-packages\n",
      "Searching for cffi==1.14.0\n",
      "Best match: cffi 1.14.0\n",
      "Adding cffi 1.14.0 to easy-install.pth file\n",
      "\n",
      "Using /usr/local/lib/python3.6/dist-packages\n",
      "Searching for pytz==2018.9\n",
      "Best match: pytz 2018.9\n",
      "Adding pytz 2018.9 to easy-install.pth file\n",
      "\n",
      "Using /usr/local/lib/python3.6/dist-packages\n",
      "Searching for protobuf==3.10.0\n",
      "Best match: protobuf 3.10.0\n",
      "Adding protobuf 3.10.0 to easy-install.pth file\n",
      "\n",
      "Using /usr/local/lib/python3.6/dist-packages\n",
      "Searching for googleapis-common-protos==1.52.0\n",
      "Best match: googleapis-common-protos 1.52.0\n",
      "Adding googleapis-common-protos 1.52.0 to easy-install.pth file\n",
      "\n",
      "Using /usr/local/lib/python3.6/dist-packages\n",
      "Searching for pyasn1==0.4.8\n",
      "Best match: pyasn1 0.4.8\n",
      "Adding pyasn1 0.4.8 to easy-install.pth file\n",
      "\n",
      "Using /usr/local/lib/python3.6/dist-packages\n",
      "Searching for pycparser==2.20\n",
      "Best match: pycparser 2.20\n",
      "Adding pycparser 2.20 to easy-install.pth file\n",
      "\n",
      "Using /usr/local/lib/python3.6/dist-packages\n",
      "Finished processing dependencies for geebam==0.1.5\n"
     ]
    }
   ],
   "source": [
    "!sudo python setup.py install"
   ]
  },
  {
   "cell_type": "code",
   "execution_count": null,
   "metadata": {
    "colab": {
     "base_uri": "https://localhost:8080/",
     "height": 52
    },
    "colab_type": "code",
    "id": "HXVnbmTmql_T",
    "outputId": "916d92a6-3e73-47c5-8a7a-1f9b7c4ce844"
   },
   "outputs": [
    {
     "name": "stdout",
     "output_type": "stream",
     "text": [
      "Requirement already satisfied: bs4 in /usr/local/lib/python3.6/dist-packages (0.0.1)\n",
      "Requirement already satisfied: beautifulsoup4 in /usr/local/lib/python3.6/dist-packages (from bs4) (4.6.3)\n"
     ]
    }
   ],
   "source": [
    "!sudo pip install bs4"
   ]
  },
  {
   "cell_type": "code",
   "execution_count": null,
   "metadata": {
    "colab": {
     "base_uri": "https://localhost:8080/",
     "height": 248
    },
    "colab_type": "code",
    "id": "tsbSRYdEqxis",
    "outputId": "716521d1-f1e3-4597-e3cb-b946c0396453"
   },
   "outputs": [
    {
     "name": "stdout",
     "output_type": "stream",
     "text": [
      "Collecting retrying==1.3.3\n",
      "  Downloading https://files.pythonhosted.org/packages/44/ef/beae4b4ef80902f22e3af073397f079c96969c69b2c7d52a57ea9ae61c9d/retrying-1.3.3.tar.gz\n",
      "Requirement already satisfied: six>=1.7.0 in /usr/local/lib/python3.6/dist-packages (from retrying==1.3.3) (1.12.0)\n",
      "Building wheels for collected packages: retrying\n",
      "  Building wheel for retrying (setup.py) ... \u001b[?25l\u001b[?25hdone\n",
      "  Created wheel for retrying: filename=retrying-1.3.3-cp36-none-any.whl size=11431 sha256=637e18c41c582ca98f2b3445be6caaab54a00f800cb5ba6744d46f4f5db1f8d0\n",
      "  Stored in directory: /root/.cache/pip/wheels/d7/a9/33/acc7b709e2a35caa7d4cae442f6fe6fbf2c43f80823d46460c\n",
      "Successfully built retrying\n",
      "Installing collected packages: retrying\n",
      "  Found existing installation: retrying 1.2.3\n",
      "    Uninstalling retrying-1.2.3:\n",
      "      Successfully uninstalled retrying-1.2.3\n",
      "Successfully installed retrying-1.3.3\n"
     ]
    }
   ],
   "source": [
    "!sudo -H pip install retrying==1.3.3"
   ]
  },
  {
   "cell_type": "code",
   "execution_count": null,
   "metadata": {
    "colab": {
     "base_uri": "https://localhost:8080/",
     "height": 230
    },
    "colab_type": "code",
    "id": "b5CPdghYqpzi",
    "outputId": "670bfa2e-6c3d-4600-9dd4-4dc33c68101d"
   },
   "outputs": [
    {
     "name": "stdout",
     "output_type": "stream",
     "text": [
      "Traceback (most recent call last):\n",
      "  File \"/usr/local/bin/geebam\", line 11, in <module>\n",
      "    load_entry_point('geebam==0.1.5', 'console_scripts', 'geebam')()\n",
      "  File \"/usr/local/lib/python3.6/dist-packages/pkg_resources/__init__.py\", line 490, in load_entry_point\n",
      "    return get_distribution(dist).load_entry_point(group, name)\n",
      "  File \"/usr/local/lib/python3.6/dist-packages/pkg_resources/__init__.py\", line 2862, in load_entry_point\n",
      "    return ep.load()\n",
      "  File \"/usr/local/lib/python3.6/dist-packages/pkg_resources/__init__.py\", line 2462, in load\n",
      "    return self.resolve()\n",
      "  File \"/usr/local/lib/python3.6/dist-packages/pkg_resources/__init__.py\", line 2468, in resolve\n",
      "    module = __import__(self.module_name, fromlist=['__name__'], level=0)\n",
      "ModuleNotFoundError: No module named 'geebam'\n"
     ]
    }
   ],
   "source": [
    "!geebam upload -u theaaronscherf@gmail.com -d /content/drive/My Drive/Research/BFI Farmview/Climate Data/ca-state-boundary -c ca-state-boundary --nodata -9999"
   ]
  },
  {
   "cell_type": "markdown",
   "metadata": {
    "colab_type": "text",
    "id": "VC7r-mi1hg9f"
   },
   "source": [
    "## Import Feature Collection Object from GEE\n"
   ]
  },
  {
   "cell_type": "code",
   "execution_count": null,
   "metadata": {
    "colab": {},
    "colab_type": "code",
    "id": "FiKqCJwthhUR"
   },
   "outputs": [],
   "source": [
    "ca_bound = ee.FeatureCollection('users/theaaronscherf/ca-state-boundary')"
   ]
  },
  {
   "cell_type": "code",
   "execution_count": null,
   "metadata": {
    "colab": {},
    "colab_type": "code",
    "id": "8xr7_jxFPEiF"
   },
   "outputs": [],
   "source": [
    "ca_bound.getInfo()"
   ]
  },
  {
   "cell_type": "code",
   "execution_count": null,
   "metadata": {
    "colab": {
     "base_uri": "https://localhost:8080/",
     "height": 968
    },
    "colab_type": "code",
    "id": "EN5K4bSExYqZ",
    "outputId": "53561186-16dc-4447-b416-630c97930b09"
   },
   "outputs": [
    {
     "data": {
      "text/html": [
       "<div style=\"width:100%;\"><div style=\"position:relative;width:100%;height:0;padding-bottom:60%;\"><iframe src=\"data:text/html;charset=utf-8;base64,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\" style=\"position:absolute;width:100%;height:100%;left:0;top:0;border:none !important;\" allowfullscreen webkitallowfullscreen mozallowfullscreen></iframe></div></div>"
      ],
      "text/plain": [
       "<geemap.eefolium.Map at 0x7f4f7c9bce48>"
      ]
     },
     "execution_count": 13,
     "metadata": {
      "tags": []
     },
     "output_type": "execute_result"
    }
   ],
   "source": [
    "Map = emap.Map()\n",
    "Map"
   ]
  },
  {
   "cell_type": "code",
   "execution_count": null,
   "metadata": {
    "colab": {},
    "colab_type": "code",
    "id": "EsEubBetxD9H"
   },
   "outputs": [],
   "source": [
    "landsat7 = ee.Image('LE7_TOA_5YEAR/1999_2003') \\\n",
    "    .select([0, 1, 2, 3, 4, 6])\n",
    "landsat_vis = {\n",
    "    'bands': ['B4', 'B3', 'B2'], \n",
    "    'gamma': 1.4\n",
    "}\n",
    "Map.addLayer(landsat7, landsat_vis, \"LE7_TOA_5YEAR/1999_2003\")\n",
    "\n",
    "hyperion = ee.ImageCollection('EO1/HYPERION') \\\n",
    "    .filter(ee.Filter.date('2016-01-01', '2017-03-01'));\n",
    "hyperion_vis = {\n",
    "  'min': 1000.0,\n",
    "  'max': 14000.0,\n",
    "  'gamma': 2.5,\n",
    "}\n",
    "Map.addLayer(hyperion, hyperion_vis, 'EO1/HYPERION');"
   ]
  },
  {
   "cell_type": "code",
   "execution_count": null,
   "metadata": {
    "colab": {
     "base_uri": "https://localhost:8080/",
     "height": 204
    },
    "colab_type": "code",
    "id": "oNBDuVlLxcMz",
    "outputId": "2f416e69-b350-443a-e4bc-5d7524a0b9fd"
   },
   "outputs": [
    {
     "ename": "AttributeError",
     "evalue": "ignored",
     "output_type": "error",
     "traceback": [
      "\u001b[0;31m---------------------------------------------------------------------------\u001b[0m",
      "\u001b[0;31mAttributeError\u001b[0m                            Traceback (most recent call last)",
      "\u001b[0;32m<ipython-input-15-4c6291e8fd0d>\u001b[0m in \u001b[0;36m<module>\u001b[0;34m()\u001b[0m\n\u001b[0;32m----> 1\u001b[0;31m \u001b[0mMap\u001b[0m\u001b[0;34m.\u001b[0m\u001b[0mset_plot_options\u001b[0m\u001b[0;34m(\u001b[0m\u001b[0mplot_type\u001b[0m\u001b[0;34m=\u001b[0m\u001b[0;34m'bar'\u001b[0m\u001b[0;34m,\u001b[0m \u001b[0madd_marker_cluster\u001b[0m\u001b[0;34m=\u001b[0m\u001b[0;32mTrue\u001b[0m\u001b[0;34m)\u001b[0m\u001b[0;34m\u001b[0m\u001b[0;34m\u001b[0m\u001b[0m\n\u001b[0m\u001b[1;32m      2\u001b[0m \u001b[0mm\u001b[0m \u001b[0;34m=\u001b[0m \u001b[0memap\u001b[0m\u001b[0;34m.\u001b[0m\u001b[0mMap\u001b[0m\u001b[0;34m(\u001b[0m\u001b[0;34m)\u001b[0m\u001b[0;34m\u001b[0m\u001b[0;34m\u001b[0m\u001b[0m\n\u001b[1;32m      3\u001b[0m \u001b[0mm\u001b[0m\u001b[0;34m\u001b[0m\u001b[0;34m\u001b[0m\u001b[0m\n",
      "\u001b[0;31mAttributeError\u001b[0m: 'Map' object has no attribute 'set_plot_options'"
     ]
    }
   ],
   "source": [
    "Map.set_plot_options(plot_type='bar', add_marker_cluster=True)\n",
    "m = emap.Map()\n",
    "m"
   ]
  },
  {
   "cell_type": "markdown",
   "metadata": {
    "colab_type": "text",
    "id": "YVr8HXZtrdhX"
   },
   "source": [
    "## Define Datasets and Variables to Query Images"
   ]
  },
  {
   "cell_type": "code",
   "execution_count": null,
   "metadata": {
    "colab": {},
    "colab_type": "code",
    "id": "oB4LxRWQrgsb"
   },
   "outputs": [],
   "source": [
    "def query_GEE_server(image_collection, gee_var, result_fc,\n",
    "                     buffer = 1000, temp_reducer = ee.Reducer.sum(), \n",
    "                     spatial_reducer = ee.Reducer.mean(), scale = 1000, crs = 'EPSG:4326',\n",
    "                     gee_prefix = 'mean', drive_folder = data_path, fileNamePrefix = 'query_fc_func') :\n",
    "  \n",
    "## Select image collection from Earth Engine and select a band  \n",
    "  imagery = ee.ImageCollection(image_collection).select(gee_var)\n",
    "\n",
    "## Temporally reduce images for each point to single image per month\n",
    "  data = ee.ImageCollection(result_fc.map(lambda feature : imagery \\\n",
    "                             .filter(ee.Filter.date(ee.Date(feature.get('START_DATE')),\\\n",
    "                                                    ee.Date(feature.get('END_DATE')))) \\\n",
    "                             .filterBounds(feature.geometry().buffer(buffer)) \\\n",
    "                             .reduce(temp_reducer)\\\n",
    "                             .copyProperties(feature)))\n",
    "\n",
    "## Reduce regions of images to spatial average per month\n",
    "## Use an If Algorithm to replace any null values due to dates outside the image collection\n",
    "  query_feature = ee.FeatureCollection(data.map(lambda image : ee.Feature(ee.Algorithms.If(image.bandNames(), \\\n",
    "                                                         image.reduceRegions( \\\n",
    "                                                              collection = ee.FeatureCollection([ee.Feature( \\\n",
    "                                                                         ee.Geometry.Point([ \\\n",
    "                                                                            image.get('LONG_COORD'),\\\n",
    "                                                                            image.get('LAT_COORD')\\\n",
    "                                                                            ]) \\\n",
    "                                                                         )]), \\\n",
    "                                                              reducer=spatial_reducer, \\\n",
    "                                                              scale=scale, crs = crs),\\\n",
    "                                                         ee.FeatureCollection(\\\n",
    "                                                              ee.Geometry.Point([ \\\n",
    "                                                              image.get('LONG_COORD'),\\\n",
    "                                                              image.get('LAT_COORD')\\\n",
    "                                                              ]))\\\n",
    "                                                            )), \\\n",
    "                         opt_dropNulls=True)).flatten()\n",
    "\n",
    "# Batch export the task to Earth Engine and send the results to Drive\n",
    "  mytask = ee.batch.Export.table.toDrive(collection=query_feature, \\\n",
    "#                                              selectors = [gee_prefix], \\\n",
    "#                                              folder = drive_folder, \\\n",
    "                                              fileNamePrefix = fileNamePrefix, \\\n",
    "                                              fileFormat='CSV')\n",
    "\n",
    "  mytask.start()"
   ]
  },
  {
   "cell_type": "code",
   "execution_count": null,
   "metadata": {
    "colab": {},
    "colab_type": "code",
    "id": "LhSxE-WwrpJw"
   },
   "outputs": [],
   "source": [
    "def query_GEE_id(image_collection, gee_var, result_fc,\n",
    "                     buffer = 1000, temp_reducer = ee.Reducer.sum(), \n",
    "                     fileNamePrefix = 'query_fc_func') :\n",
    "  \n",
    "## Select image collection from Earth Engine and select a band  \n",
    "  imagery = ee.ImageCollection(image_collection).select(gee_var)\n",
    "\n",
    "## Temporally reduce images for each point to single image per month\n",
    "  data = ee.ImageCollection(result_fc.map(lambda feature : imagery \\\n",
    "                             .filter(ee.Filter.date(ee.Date(feature.get('START_DATE')),\\\n",
    "                                                    ee.Date(feature.get('END_DATE')))) \\\n",
    "                             .filterBounds(feature.geometry().buffer(buffer)) \\\n",
    "                             .reduce(temp_reducer)\\\n",
    "                             .copyProperties(feature)))\n",
    "\n",
    "## Reduce regions of images to spatial average per month\n",
    "## Use an If Algorithm to replace any null values due to dates outside the image collection\n",
    "  query_feature = ee.FeatureCollection(data.map(lambda image : image))\n",
    "## Use an If Algorithm to replace any null values due to dates outside the image collection\n",
    "  query_feature = ee.FeatureCollection(data.map(lambda image : ee.Feature(ee.Algorithms.If(image.bandNames(), \\\n",
    "                                                         image.reduceRegions( \\\n",
    "                                                              collection = ee.FeatureCollection([ee.Feature( \\\n",
    "                                                                         ee.Geometry.Point([ \\\n",
    "                                                                            image.get('LONG_COORD'),\\\n",
    "                                                                            image.get('LAT_COORD')\\\n",
    "                                                                            ]) \\\n",
    "                                                                         )]), \\\n",
    "                                                              reducer=spatial_reducer, \\\n",
    "                                                              scale=scale, crs = crs),\\\n",
    "                                                         ee.FeatureCollection(\\\n",
    "                                                              ee.Geometry.Point([ \\\n",
    "                                                              image.get('LONG_COORD'),\\\n",
    "                                                              image.get('LAT_COORD')\\\n",
    "                                                              ]))\\\n",
    "                                                            )), \\\n",
    "                         opt_dropNulls=True)).flatten()\n",
    "\n",
    "# Batch export the task to Earth Engine and send the results to Drive\n",
    "  mytask = ee.batch.Export.table.toDrive(collection=query_feature, \\\n",
    "#                                              selectors = [gee_prefix], \\\n",
    "#                                              folder = drive_folder, \\\n",
    "                                              fileNamePrefix = fileNamePrefix, \\\n",
    "                                              fileFormat='CSV')\n",
    "\n",
    "  mytask.start()"
   ]
  },
  {
   "cell_type": "code",
   "execution_count": null,
   "metadata": {
    "colab": {},
    "colab_type": "code",
    "id": "M9bR5UA5rruQ"
   },
   "outputs": [],
   "source": [
    "def query_GEE_fix_date(image_collection, gee_var, result_fc,\n",
    "                     buffer = 1000, \n",
    "                     spatial_reducer = ee.Reducer.mean(), scale = 1000, crs = 'EPSG:4326',\n",
    "                     gee_prefix = 'mean', drive_folder = data_path, fileNamePrefix = 'query_fc_func') :\n",
    "  \n",
    "  image = ee.Image(image_collection).select(gee_var)\n",
    "## Temporally reduce images for each point to single image per month\n",
    "  data = ee.ImageCollection(result_fc.map(lambda feature : image.copyProperties(feature)))\n",
    "\n",
    "\n",
    "## Use an If Algorithm to replace any null values due to dates outside the image collection\n",
    "  query_feature = ee.FeatureCollection(data.map(lambda image : ee.Feature(ee.Algorithms.If(image.bandNames(), \\\n",
    "                                                         image.reduceRegions( \\\n",
    "                                                              collection = ee.FeatureCollection([ee.Feature( \\\n",
    "                                                                         ee.Geometry.Point([ \\\n",
    "                                                                            image.get('LONG_COORD'),\\\n",
    "                                                                            image.get('LAT_COORD')\\\n",
    "                                                                            ]) \\\n",
    "                                                                         )]), \\\n",
    "                                                              reducer=spatial_reducer, \\\n",
    "                                                              scale=scale, crs = crs),\\\n",
    "                                                         ee.FeatureCollection(\\\n",
    "                                                              ee.Geometry.Point([ \\\n",
    "                                                              image.get('LONG_COORD'),\\\n",
    "                                                              image.get('LAT_COORD')\\\n",
    "                                                              ]))\\\n",
    "                                                            )), \\\n",
    "                         opt_dropNulls=True)).flatten()\n",
    "\n",
    "# Batch export the task to Earth Engine and send the results to Drive\n",
    "  mytask = ee.batch.Export.table.toDrive(collection=query_feature, \\\n",
    "                                              fileNamePrefix = fileNamePrefix, \\\n",
    "                                              fileFormat='CSV')\n",
    "\n",
    "  mytask.start()"
   ]
  },
  {
   "cell_type": "code",
   "execution_count": null,
   "metadata": {
    "colab": {},
    "colab_type": "code",
    "id": "fCO-ODeVrtXQ"
   },
   "outputs": [],
   "source": [
    "input_choices = pd.DataFrame([['ECMWF/ERA5/DAILY','total_precipitation',ee.Reducer.sum(), ee.Reducer.mean(), 'query_era5_total_precip'],\n",
    "                              ['ECMWF/ERA5/DAILY','mean_2m_air_temperature',ee.Reducer.mean(), ee.Reducer.mean(), 'query_era5_av_mean_air_temp'],\n",
    "                              ['ECMWF/ERA5/DAILY','maximum_2m_air_temperature',ee.Reducer.mean(), ee.Reducer.mean(),'query_era5_av_max_air_temp'],\n",
    "                              ['ECMWF/ERA5/DAILY','minimum_2m_air_temperature',ee.Reducer.mean(), ee.Reducer.mean(),'query_era5_av_min_air_temp'],\n",
    "                              [\"NASA/FLDAS/NOAH01/C/GL/M/V001\",'Evap_tavg',ee.Reducer.sum(), ee.Reducer.mean(),'query_fldas_total_evap'],\n",
    "                             [\"IDAHO_EPSCOR/TERRACLIMATE\",\"tmmx\",ee.Reducer.sum(), ee.Reducer.mean(), 'query_terra_av_max_temp']\n",
    "                              ],\n",
    "                             columns=['image_collection','gee_var','temp_reducer','spatial_reducer','fileNamePrefix'])\n",
    "input_choices"
   ]
  },
  {
   "cell_type": "code",
   "execution_count": null,
   "metadata": {
    "colab": {},
    "colab_type": "code",
    "id": "AKTlm-htu45T"
   },
   "outputs": [],
   "source": [
    "var dataset = ee.ImageCollection('USDA/NASS/CDL')\n",
    "                  .filter(ee.Filter.date('2018-01-01', '2019-12-31'))\n",
    "                  .first();\n",
    "var cropLandcover = dataset.select('cropland');"
   ]
  },
  {
   "cell_type": "code",
   "execution_count": null,
   "metadata": {
    "colab": {},
    "colab_type": "code",
    "id": "gI-fBveAvFmc"
   },
   "outputs": [],
   "source": [
    "var dataset = ee.ImageCollection(\"NOAA/VIIRS/001/VNP13A1\");\n",
    "var mean_evi_january_2018 = dataset\n",
    "    .filterDate('2018-01-01', '2018-01-31')\n",
    "    .select('EVI')\n",
    "    .mean();"
   ]
  }
 ],
 "metadata": {
  "colab": {
   "name": "GEE_Query_CA_Climate.ipynb",
   "provenance": []
  },
  "kernelspec": {
   "display_name": "Python 3",
   "language": "python",
   "name": "python3"
  },
  "language_info": {
   "codemirror_mode": {
    "name": "ipython",
    "version": 3
   },
   "file_extension": ".py",
   "mimetype": "text/x-python",
   "name": "python",
   "nbconvert_exporter": "python",
   "pygments_lexer": "ipython3",
   "version": "3.7.3"
  }
 },
 "nbformat": 4,
 "nbformat_minor": 1
}
